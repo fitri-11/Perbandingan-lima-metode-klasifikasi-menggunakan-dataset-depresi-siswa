{
 "cells": [
  {
   "cell_type": "code",
   "execution_count": 2,
   "metadata": {},
   "outputs": [
    {
     "data": {
      "text/plain": [
       "(27901, 18)"
      ]
     },
     "execution_count": 2,
     "metadata": {},
     "output_type": "execute_result"
    }
   ],
   "source": [
    "import pandas as pd\n",
    "data = pd.read_csv('Student Depression Dataset.csv')\n",
    "df = pd.DataFrame(data)\n",
    "\n",
    "# konversi nama colum agar mudah saat di proses\n",
    "df.rename(columns={'Gender':'Jenis Kelamin', 'City':'Kota', 'Age':'Usia', 'Profession':'profesi', 'Depression':'Depresi'}, inplace=True)\n",
    "df.rename(columns={'Academic Pressure':'Tekanan Akademik', 'Work Pressure':'Tekanan Kerja', 'CGPA':'IPK', 'Study Satisfaction':'Kepuasan Belajar'}, inplace=True)\n",
    "df.rename(columns={'Job Satisfaction':'Kepuasan Kerja', 'Sleep Duration':'Durasi Tidur', 'Dietary Habits':'Kebiasaan Makan', 'Degree':'Gelar Pendidikan'}, inplace=True)\n",
    "df.rename(columns={'Have you ever had suicidal thoughts ?':'Apakah anda pernah memiliki pikiran untuk bunuh diri', 'Work/Study Hours':'Jam Kerja/Belajar', 'Financial Stress':'Tingkat Stress Keuangan', 'Family History of Mental Illness':'Riwayat Penyakit Mental Dalam Keluarga'}, inplace=True)\n",
    "df"
   ]
  },
  {
   "cell_type": "code",
   "execution_count": 41,
   "metadata": {},
   "outputs": [],
   "source": [
    "# cek apakah ada baris yang kosong pada atribut\n",
    "df.isnull().sum()\n"
   ]
  },
  {
   "cell_type": "code",
   "execution_count": 44,
   "metadata": {},
   "outputs": [
    {
     "data": {
      "text/plain": [
       "id                                                      0\n",
       "Jenis Kelamin                                           0\n",
       "Usia                                                    0\n",
       "Kota                                                    0\n",
       "profesi                                                 0\n",
       "Tekanan Akademik                                        0\n",
       "Tekanan Kerja                                           0\n",
       "IPK                                                     0\n",
       "Kepuasan Belajar                                        0\n",
       "Kepuasan Kerja                                          0\n",
       "Durasi Tidur                                            0\n",
       "Kebiasaan Makan                                         0\n",
       "Gelar Pendidikan                                        0\n",
       "Apakah anda pernah memiliki pikiran untuk bunuh diri    0\n",
       "Jam Kerja/Belajar                                       0\n",
       "Tingkat Stress Keuangan                                 0\n",
       "Riwayat Penyakit Mental Dalam Keluarga                  0\n",
       "Depresi                                                 0\n",
       "dtype: int64"
      ]
     },
     "execution_count": 44,
     "metadata": {},
     "output_type": "execute_result"
    }
   ],
   "source": [
    "# Proses hapus duplicat dan hapus baris yg kosong\n",
    "df = df.drop_duplicates()\n",
    "df = df.dropna(subset=['Tingkat Stress Keuangan'])"
   ]
  },
  {
   "cell_type": "code",
   "execution_count": 45,
   "metadata": {},
   "outputs": [],
   "source": [
    "# proses simpan dataset setelah di modifikasi\n",
    "df.to_csv('data siswa depresi.csv', index=False) "
   ]
  }
 ],
 "metadata": {
  "kernelspec": {
   "display_name": "Python 3",
   "language": "python",
   "name": "python3"
  },
  "language_info": {
   "codemirror_mode": {
    "name": "ipython",
    "version": 3
   },
   "file_extension": ".py",
   "mimetype": "text/x-python",
   "name": "python",
   "nbconvert_exporter": "python",
   "pygments_lexer": "ipython3",
   "version": "3.12.3"
  },
  "orig_nbformat": 4,
  "vscode": {
   "interpreter": {
    "hash": "3fcbd7240ee8f908d933dc7f71e8c42a1a91163b70ede8dcff5146d4087436c7"
   }
  }
 },
 "nbformat": 4,
 "nbformat_minor": 2
}
